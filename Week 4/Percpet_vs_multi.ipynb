{
 "cells": [
  {
   "cell_type": "markdown",
   "metadata": {},
   "source": [
    "# Simple Neural Network or Perceptron\n",
    "\n",
    "Task: Use only numpy and matplot lib to construct a neural net.\n",
    "\n",
    "Sources: https://stackabuse.com/creating-a-neural-network-from-scratch-in-python-adding-hidden-layers/ ; https://towardsdatascience.com/6-steps-to-write-any-machine-learning-algorithm-from-scratch-perceptron-case-study-335f638a70f3\n",
    "\n",
    "Author: abirSpidey"
   ]
  },
  {
   "cell_type": "code",
   "execution_count": 1,
   "metadata": {},
   "outputs": [
    {
     "name": "stdout",
     "output_type": "stream",
     "text": [
      "(200, 3)\n",
      "(3, 1)\n",
      "(matrix([[0.08913824]]), 1.9216408971371164)\n"
     ]
    },
    {
     "data": {
      "image/png": "[encoded data removed]",
      "text/plain": [
       "<Figure size 288x288 with 1 Axes>"
      ]
     },
     "metadata": {
      "needs_background": "light"
     },
     "output_type": "display_data"
    }
   ],
   "source": [
    "import numpy as np\n",
    "import matplotlib.pyplot as plt\n",
    "%matplotlib inline\n",
    "\n",
    "def draw(x1,x2):\n",
    "    ln=plt.plot(x1,x2,'-')\n",
    "\n",
    "def sigmoid(score):\n",
    "    return 1/(1+np.exp(-score))\n",
    "\n",
    "def calculate_error(line_parameters, points , y):\n",
    "    n=points.shape[0]\n",
    "    p= sigmoid(points*line_parameters)\n",
    "    cross_entropy=-(1/n)*(np.log(p).T*y + np.log(1-p).T*(1-y))\n",
    "    mse = ((1 / 2) * (np.power((p - y), 2)))\n",
    "    #print(error_out.sum())\n",
    "    return cross_entropy, mse.sum() \n",
    "\n",
    "def gradient_descent(line_parameters, points, y , alpha):\n",
    "    n=points.shape[0]\n",
    "    for i in range(4000):\n",
    "        p=sigmoid(points*line_parameters)\n",
    "        gradient= points.T*(p-y)*(alpha/n)\n",
    "        line_parameters = line_parameters - gradient\n",
    "\n",
    "        w1=line_parameters.item(0)\n",
    "        w2=line_parameters.item(1)\n",
    "        b=line_parameters.item(2)\n",
    "\n",
    "        x1=np.array([points[:,0].min(), points[:,0].max()])\n",
    "        x2= -b/w2 + (x1*(-w1/w2))\n",
    "    print(calculate_error(line_parameters, points, y))\n",
    "    draw(x1,x2)\n",
    "    \n",
    "# make data points\n",
    "n_pts=100\n",
    "np.random.seed(0)\n",
    "bias= np.ones(n_pts)\n",
    "top_region=np.array([np.random.normal(10,2,n_pts), np.random.normal(12,2,n_pts), bias]).T\n",
    "bottom_region= np.array([np.random.normal(5,2, n_pts), np.random.normal(6,2, n_pts), bias]).T\n",
    "all_points=np.vstack((top_region, bottom_region))\n",
    "print(all_points.shape)   \n",
    "line_parameters = np.matrix([np.zeros(3)]).T\n",
    "y=np.array([np.zeros(n_pts), np.ones(n_pts)]).reshape(n_pts*2, 1)\n",
    "print(line_parameters.shape)\n",
    "#plotting\n",
    "_, ax= plt.subplots(figsize=(4,4))\n",
    "ax.scatter(top_region[:,0], top_region[:,1], color='r')\n",
    "ax.scatter(bottom_region[:,0], bottom_region[:,1], color='b')\n",
    "gradient_descent(line_parameters, all_points, y , 0.08)\n",
    "plt.show()"
   ]
  },
  {
   "cell_type": "markdown",
   "metadata": {},
   "source": [
    "# Conclusion\n",
    "1. Showed a simple perceptron for classification.\n",
    "2. Used cross entropy and MSE to see the error value.\n",
    "3. Now we will try the same with multiple perceptron to compare.\n"
   ]
  },
  {
   "cell_type": "markdown",
   "metadata": {},
   "source": [
    "# Multiple Perceptron\n",
    "For multiple perceptron we use the concept that the input features in case here 3. Please note we have included a bias of 1 for all the points above so this is also taken as a feature by the neural network. "
   ]
  },
  {
   "cell_type": "code",
   "execution_count": 51,
   "metadata": {},
   "outputs": [
    {
     "name": "stdout",
     "output_type": "stream",
     "text": [
      "1.3723824968999463\n"
     ]
    }
   ],
   "source": [
    "def sigmoid_der(x):\n",
    "    return sigmoid(x) *(1-sigmoid (x))\n",
    "np.random.seed(0)\n",
    "wh = np.random.rand(len(all_points[0]),4) \n",
    "wo = np.random.rand(4, 1)\n",
    "alpha=.008\n",
    "for epoch in range(4000):\n",
    "    # feedforward\n",
    "    zh = np.dot(all_points, wh)\n",
    "    ah = sigmoid(zh)\n",
    "\n",
    "    zo = np.dot(ah, wo)\n",
    "    ao = sigmoid(zo)\n",
    "\n",
    "    # Phase1 =======================\n",
    "\n",
    "    error_out = ((1 / 2) * (np.power((ao - y), 2)))\n",
    "    #print(error_out.sum())\n",
    "\n",
    "    dcost_dao = ao - y\n",
    "    dao_dzo = sigmoid_der(zo) \n",
    "    dzo_dwo = ah\n",
    "\n",
    "    dcost_wo = np.dot(dzo_dwo.T, dcost_dao * dao_dzo)\n",
    "\n",
    "    # Phase 2 =======================\n",
    "\n",
    "    # dcost_w1 = dcost_dah * dah_dzh * dzh_dw1\n",
    "    # dcost_dah = dcost_dzo * dzo_dah\n",
    "    dcost_dzo = dcost_dao * dao_dzo\n",
    "    dzo_dah = wo\n",
    "    dcost_dah = np.dot(dcost_dzo , dzo_dah.T)\n",
    "    dah_dzh = sigmoid_der(zh) \n",
    "    dzh_dwh = all_points\n",
    "    dcost_wh = np.dot(dzh_dwh.T, dah_dzh * dcost_dah)\n",
    "\n",
    "    # Update Weights ================\n",
    "\n",
    "    wh -= alpha * dcost_wh\n",
    "    wo -= alpha * dcost_wo\n",
    "print(error_out.sum())  "
   ]
  },
  {
   "cell_type": "markdown",
   "metadata": {},
   "source": [
    "# Conclusion\n",
    "We can see that the above performed better than a single perceptron with same learning rate and epochs although this might not be a huge difference but any slight improvement in a model has a huge impact on the performance, thus showing why multiple perceptrons are better.\n",
    "\n",
    "To test AND, OR, NOT and XOR but before that some doubts"
   ]
  },
  {
   "cell_type": "markdown",
   "metadata": {},
   "source": [
    "# AND OR and NOT with perceptrons\n",
    "Before we design the perceptron and multilayer hidden node let us have some fun implimenting manually by changing the code below and check our results. Once you got check with the perceptron and the multi layer perceptron The sequence is AND, OR and NOT ans then XOR. Source for the below code: Classroom implimentation from online MOOC's thatt I attended. "
   ]
  },
  {
   "cell_type": "code",
   "execution_count": 3,
   "metadata": {},
   "outputs": [],
   "source": [
    "import numpy as np\n",
    "import matplotlib.pyplot as plt\n",
    "import pandas as pd\n",
    "%matplotlib inline\n",
    "\n",
    "def draw(x1,x2):\n",
    "    line=plt.plot(x1,x2,'-')\n",
    "\n",
    "def sigmoid(score):\n",
    "    return 1/(1+np.exp(-score))\n",
    "\n",
    "def calculate_error(line_parameters, points , y):\n",
    "    n=points.shape[0]                                                              #total points n\n",
    "    p= sigmoid(points*line_parameters)                                             #probabilty array for cross entropy\n",
    "    cross_entropy=-(1/n)*(np.log(p).T*y + np.log(1-p).T*(1-y))                     \n",
    "    mse = ((1 / 2) * (np.power((p - y), 2)))\n",
    "    #print(error_out.sum())\n",
    "    return cross_entropy, mse.sum() \n",
    "\n",
    "def gradient_descent(line_parameters, points, y , alpha):\n",
    "    n=points.shape[0]\n",
    "    for i in range(4000):\n",
    "        p=sigmoid(points*line_parameters)\n",
    "        gradient= points.T*(p-y)*(alpha/n)\n",
    "        line_parameters = line_parameters - gradient                            #line_parameters=w1,w2,b for w1*x1+w2*x2+b\n",
    "\n",
    "        w1=line_parameters.item(0)\n",
    "        w2=line_parameters.item(1)\n",
    "        b=line_parameters.item(2)\n",
    "\n",
    "        x1=np.array([points[:,0].min(), points[:,0].max()])\n",
    "        try:\n",
    "            x2= -b/w2 + (x1*(-w1/w2))\n",
    "        except:\n",
    "            print(\"I am here\")\n",
    "            w2=.1\n",
    "            w1=.1\n",
    "    print(calculate_error(line_parameters, points, y))\n",
    "    draw(x1,x2)\n",
    "    print(\"w1: {}, w2: {}, b: {}:\".format(w2,w1,b))"
   ]
  },
  {
   "cell_type": "code",
   "execution_count": 4,
   "metadata": {},
   "outputs": [
    {
     "name": "stdout",
     "output_type": "stream",
     "text": [
      "You got 3 wrong.  Keep trying!\n",
      "\n",
      " Input 1    Input 2    Linear Combination    Activation Output   Is Correct\n",
      "       0          0                   0.0                    1           No\n",
      "       0          1                   0.0                    1           No\n",
      "       1          0                   0.0                    1           No\n",
      "       1          1                   0.0                    1          Yes\n"
     ]
    }
   ],
   "source": [
    "#And operator manual descent \n",
    "\n",
    "#Set weight1, weight2, and bias\n",
    "\n",
    "weight1 = 0.0\n",
    "weight2 = 0.0\n",
    "bias = 0.0\n",
    "\n",
    "\n",
    "# Inputs and outputs\n",
    "test_inputs = [(0, 0), (0, 1), (1, 0), (1, 1)]\n",
    "correct_outputs = [False, False, False, True]\n",
    "outputs = []\n",
    "\n",
    "# Generate and check output\n",
    "for test_input, correct_output in zip(test_inputs, correct_outputs):\n",
    "    linear_combination = weight1 * test_input[0] + weight2 * test_input[1] + bias\n",
    "    output = int(linear_combination >= 0)\n",
    "    is_correct_string = 'Yes' if output == correct_output else 'No'\n",
    "    outputs.append([test_input[0], test_input[1], linear_combination, output, is_correct_string])\n",
    "\n",
    "# Print output\n",
    "num_wrong = len([output[4] for output in outputs if output[4] == 'No'])\n",
    "output_frame = pd.DataFrame(outputs, columns=['Input 1', '  Input 2', '  Linear Combination', '  Activation Output', '  Is Correct'])\n",
    "if not num_wrong:\n",
    "    print('Nice!  You got it all correct.\\n')\n",
    "else:\n",
    "    print('You got {} wrong.  Keep trying!\\n'.format(num_wrong))\n",
    "print(output_frame.to_string(index=False))"
   ]
  },
  {
   "cell_type": "code",
   "execution_count": 5,
   "metadata": {},
   "outputs": [
    {
     "name": "stdout",
     "output_type": "stream",
     "text": [
      "(matrix([[0.05277136]]), 0.0070807956633982694)\n",
      "w1: 5.147843296920535, w2: 5.147843296920535, b: -7.904317775095422:\n"
     ]
    },
    {
     "data": {
      "image/png": "[encoded data removed]",
      "text/plain": [
       "<Figure size 720x504 with 1 Axes>"
      ]
     },
     "metadata": {
      "needs_background": "light"
     },
     "output_type": "display_data"
    }
   ],
   "source": [
    "#And operator perceptron\n",
    "data=np.array([[0.,0.,1.],[0.,1.,1.],[1.,0.,1.],[1.,1.,1.]])\n",
    "y_label=np.array([0,0,0,1]).reshape(4, 1)\n",
    "line_params = np.matrix([np.ones(3)]).T\n",
    "plt.figure(figsize=(10,7))\n",
    "plt.scatter(data[:,0], data[:,1], c=y_label.ravel(), cmap=plt.cm.winter)\n",
    "gradient_descent(line_params,data,y_label,.08)\n",
    "plt.show()"
   ]
  },
  {
   "cell_type": "code",
   "execution_count": 15,
   "metadata": {},
   "outputs": [
    {
     "name": "stdout",
     "output_type": "stream",
     "text": [
      "Nice!  You got it all correct.\n",
      "\n",
      "Input 1    Input 2    Linear Combination    Activation Output   Is Correct\n",
      "      0          0                  -2.0                    0          Yes\n",
      "      0          1                   4.0                    1          Yes\n",
      "      1          0                   4.0                    1          Yes\n",
      "      1          1                  10.0                    1          Yes\n"
     ]
    }
   ],
   "source": [
    "#OR operator manual descent\n",
    "\n",
    "#Set weight1, weight2, and bias\n",
    "\n",
    "weight1 = 0.0\n",
    "weight2 = 0.0\n",
    "bias = 0.0\n",
    "\n",
    "\n",
    "# Inputs and outputs\n",
    "test_inputs = [(0, 0), (0, 1), (1, 0), (1, 1)]\n",
    "correct_outputs = [False, True, True, True]\n",
    "outputs = []\n",
    "\n",
    "# Generate and check output\n",
    "for test_input, correct_output in zip(test_inputs, correct_outputs):\n",
    "    linear_combination = weight1 * test_input[0] + weight2 * test_input[1] + bias\n",
    "    output = int(linear_combination >= 0)\n",
    "    is_correct_string = 'Yes' if output == correct_output else 'No'\n",
    "    outputs.append([test_input[0], test_input[1], linear_combination, output, is_correct_string])\n",
    "\n",
    "# Print output\n",
    "num_wrong = len([output[4] for output in outputs if output[4] == 'No'])\n",
    "output_frame = pd.DataFrame(outputs, columns=['Input 1', '  Input 2', '  Linear Combination', '  Activation Output', '  Is Correct'])\n",
    "if not num_wrong:\n",
    "    print('Nice!  You got it all correct.\\n')\n",
    "else:\n",
    "    print('You got {} wrong.  Keep trying!\\n'.format(num_wrong))\n",
    "print(output_frame.to_string(index=False))"
   ]
  },
  {
   "cell_type": "code",
   "execution_count": 14,
   "metadata": {},
   "outputs": [
    {
     "name": "stdout",
     "output_type": "stream",
     "text": [
      "(matrix([[0.02910325]]), 0.0026364669602994915)\n",
      "w1: 6.351224367349058, w2: 6.351224367349058, b: -2.6946125964048915:\n"
     ]
    },
    {
     "data": {
      "image/png": "[encoded data removed]",
      "text/plain": [
       "<Figure size 720x504 with 1 Axes>"
      ]
     },
     "metadata": {
      "needs_background": "light"
     },
     "output_type": "display_data"
    }
   ],
   "source": [
    "#Or operator perceptron\n",
    "data=np.array([[0.,0.,1.],[0.,1.,1.],[1.,0.,1.],[1.,1.,1.]])\n",
    "y_label=np.array([0,1,1,1]).reshape(4, 1)\n",
    "line_params = np.matrix([np.ones(3)]).T\n",
    "plt.figure(figsize=(10,7))\n",
    "plt.scatter(data[:,0], data[:,1], c=y_label.ravel(), cmap=plt.cm.winter)\n",
    "gradient_descent(line_params,data,y_label,.08)\n",
    "plt.show()"
   ]
  },
  {
   "cell_type": "code",
   "execution_count": 16,
   "metadata": {},
   "outputs": [
    {
     "name": "stdout",
     "output_type": "stream",
     "text": [
      "You got 3 wrong.  Keep trying!\n",
      "\n",
      "Input 1    Input 2    Linear Combination    Activation Output   Is Correct\n",
      "      0          0                   0.0                    1          Yes\n",
      "      0          1                   0.0                    1           No\n",
      "      1          0                   0.0                    1           No\n",
      "      1          1                   0.0                    1           No\n"
     ]
    }
   ],
   "source": [
    "#NOT operator manual descent\n",
    "\n",
    "#Set weight1, weight2, and bias\n",
    "\n",
    "weight1 = 0.0\n",
    "weight2 = 0.0\n",
    "bias = 0.0\n",
    "\n",
    "\n",
    "# Inputs and outputs\n",
    "test_inputs = [(0, 0), (0, 1), (1, 0), (1, 1)]\n",
    "correct_outputs = [True, False, False, False]\n",
    "outputs = []\n",
    "\n",
    "# Generate and check output\n",
    "for test_input, correct_output in zip(test_inputs, correct_outputs):\n",
    "    linear_combination = weight1 * test_input[0] + weight2 * test_input[1] + bias\n",
    "    output = int(linear_combination >= 0)\n",
    "    is_correct_string = 'Yes' if output == correct_output else 'No'\n",
    "    outputs.append([test_input[0], test_input[1], linear_combination, output, is_correct_string])\n",
    "\n",
    "# Print output\n",
    "num_wrong = len([output[4] for output in outputs if output[4] == 'No'])\n",
    "output_frame = pd.DataFrame(outputs, columns=['Input 1', '  Input 2', '  Linear Combination', '  Activation Output', '  Is Correct'])\n",
    "if not num_wrong:\n",
    "    print('Nice!  You got it all correct.\\n')\n",
    "else:\n",
    "    print('You got {} wrong.  Keep trying!\\n'.format(num_wrong))\n",
    "print(output_frame.to_string(index=False))"
   ]
  },
  {
   "cell_type": "code",
   "execution_count": 18,
   "metadata": {},
   "outputs": [
    {
     "name": "stdout",
     "output_type": "stream",
     "text": [
      "(matrix([[0.02993998]]), 0.002786530544222284)\n",
      "w1: -6.293356577612781, w2: -6.293356577612781, b: 2.664980310233445:\n"
     ]
    },
    {
     "data": {
      "image/png": "[encoded data removed]",
      "text/plain": [
       "<Figure size 720x504 with 1 Axes>"
      ]
     },
     "metadata": {
      "needs_background": "light"
     },
     "output_type": "display_data"
    }
   ],
   "source": [
    "#Not operator perceptron\n",
    "data=np.array([[0.,0.,1.],[0.,1.,1.],[1.,0.,1.],[1.,1.,1.]])\n",
    "y_label=np.array([1,0,0,0]).reshape(4, 1)\n",
    "line_params = np.matrix([np.ones(3)]).T\n",
    "plt.figure(figsize=(10,7))\n",
    "plt.scatter(data[:,0], data[:,1], c=y_label.ravel(), cmap=plt.cm.winter)\n",
    "gradient_descent(line_params,data,y_label,.08)\n",
    "plt.show()"
   ]
  },
  {
   "cell_type": "markdown",
   "metadata": {},
   "source": [
    "# Class implimenatation of the above:\n"
   ]
  },
  {
   "cell_type": "code",
   "execution_count": null,
   "metadata": {},
   "outputs": [],
   "source": []
  }
 ],
 "metadata": {
  "kernelspec": {
   "display_name": "Python 3",
   "language": "python",
   "name": "python3"
  },
  "language_info": {
   "codemirror_mode": {
    "name": "ipython",
    "version": 3
   },
   "file_extension": ".py",
   "mimetype": "text/x-python",
   "name": "python",
   "nbconvert_exporter": "python",
   "pygments_lexer": "ipython3",
   "version": "3.7.4"
  }
 },
 "nbformat": 4,
 "nbformat_minor": 2
}
